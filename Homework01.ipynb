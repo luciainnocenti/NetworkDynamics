{
  "nbformat": 4,
  "nbformat_minor": 0,
  "metadata": {
    "kernelspec": {
      "display_name": "Python 3",
      "language": "python",
      "name": "python3"
    },
    "colab": {
      "name": "Homework01.ipynb",
      "provenance": [],
      "collapsed_sections": [],
      "include_colab_link": true
    }
  },
  "cells": [
    {
      "cell_type": "markdown",
      "metadata": {
        "id": "view-in-github",
        "colab_type": "text"
      },
      "source": [
        "<a href=\"https://colab.research.google.com/github/luciainnocenti/NetworkDynamics/blob/main/Homework01.ipynb\" target=\"_parent\"><img src=\"https://colab.research.google.com/assets/colab-badge.svg\" alt=\"Open In Colab\"/></a>"
      ]
    },
    {
      "cell_type": "markdown",
      "metadata": {
        "id": "YQKfvFsko4Li"
      },
      "source": [
        "# Introduction\n",
        "State notebook purpose here"
      ]
    },
    {
      "cell_type": "markdown",
      "metadata": {
        "id": "0vx6zecio4Li"
      },
      "source": [
        "### Imports\n",
        "Import libraries and write settings here."
      ]
    },
    {
      "cell_type": "code",
      "metadata": {
        "id": "P10PmsV3o4Li"
      },
      "source": [
        "import pandas as pd\n",
        "import numpy as np\n",
        "import networkx as nx\n",
        "import matplotlib.pyplot as plt"
      ],
      "execution_count": null,
      "outputs": []
    },
    {
      "cell_type": "markdown",
      "metadata": {
        "id": "lhU6wgtzo4Li"
      },
      "source": [
        "# Exercise 3.b\n",
        "\n"
      ]
    },
    {
      "cell_type": "markdown",
      "metadata": {
        "id": "tB_9R1plJukd"
      },
      "source": [
        "Let's define the graph by using the adjacency matrix, which contains at each cell $W_{i,j}$ the link wheight between $i$ and $j$"
      ]
    },
    {
      "cell_type": "code",
      "metadata": {
        "id": "rDoVdtzPo4Li"
      },
      "source": [
        "G = nx.Graph()"
      ],
      "execution_count": null,
      "outputs": []
    },
    {
      "cell_type": "code",
      "metadata": {
        "id": "foIhgiwNo4Lj"
      },
      "source": [
        "W = np.array([  [0,1,1,0,1,0,0,0,0,0,0,0,0,0,0], \n",
        "                [1,0,1,0,0,0,0,1,0,0,0,0,0,0,0],\n",
        "                [1,1,0,1,0,0,0,1,0,0,0,0,0,0,0],\n",
        "                [0,0,1,0,0,1,0,0,0,0,0,0,0,0,0],\n",
        "                [1,0,0,0,0,1,0,0,0,0,0,0,0,0,0],\n",
        "                [0,0,0,1,1,0,1,0,0,0,1,0,1,1,0],\n",
        "                [0,0,0,0,0,1,0,0,1,0,0,0,0,0,0],\n",
        "                [0,1,1,0,0,0,0,0,1,0,0,0,0,0,0],\n",
        "                [0,0,0,0,0,0,1,1,0,1,1,0,0,0,0],\n",
        "                [0,0,0,0,0,0,0,0,1,0,0,0,0,0,0],\n",
        "                [0,0,0,0,0,1,0,0,1,0,0,1,0,0,0],\n",
        "                [0,0,0,0,0,0,0,0,0,0,1,0,0,0,0],\n",
        "                [0,0,0,0,0,1,0,0,0,0,0,0,0,0,0],\n",
        "                [0,0,0,0,0,1,0,0,0,0,0,0,0,0,1],\n",
        "                [0,0,0,0,0,0,0,0,0,0,0,0,0,1,0],\n",
        "                ])"
      ],
      "execution_count": null,
      "outputs": []
    },
    {
      "cell_type": "code",
      "metadata": {
        "id": "H-X31a4opH60"
      },
      "source": [
        "G = nx.from_numpy_matrix(W)"
      ],
      "execution_count": null,
      "outputs": []
    },
    {
      "cell_type": "code",
      "metadata": {
        "scrolled": true,
        "colab": {
          "base_uri": "https://localhost:8080/",
          "height": 319
        },
        "id": "5IBFojmOo4Lj",
        "outputId": "ea3d15e2-44ab-4e91-ac1d-e76627d6cece"
      },
      "source": [
        "pos = nx.spring_layout(G)\n",
        "nx.draw(G,pos, with_labels=True)"
      ],
      "execution_count": null,
      "outputs": [
        {
          "output_type": "display_data",
          "data": {
            "image/png": "[encoded data removed]",
            "text/plain": [
              "<Figure size 432x288 with 1 Axes>"
            ]
          },
          "metadata": {
            "tags": []
          }
        }
      ]
    },
    {
      "cell_type": "markdown",
      "metadata": {
        "id": "vW6E1kcCKFpt"
      },
      "source": [
        "Now let's define the suppport matrices like:\n",
        "\n",
        "*   $w$ -> contains, for each node, the out-degree. It corresponds, in the undirected graph, to the number of links arriving to each node.\n",
        "*   $D$ -> is the diagonal matrix aving $w$ in the diag and $0$ in all the other cells\n",
        "*   $P$ -> it's the Averge Weighted matrix, so each element in the cell contanins a value between $0$ and $1$ which defines the portion of flow from the node that flows into that edge\n",
        "*   $L$ -> the Laplacian matrix\n",
        "\n"
      ]
    },
    {
      "cell_type": "code",
      "metadata": {
        "id": "o03YO_-Oo4Lj"
      },
      "source": [
        "w = np.sum(W,axis=1) #degrees vector\n",
        "D = np.diag(w) #Diagonal Matrix\n",
        "P = np.linalg.inv(D) @ W #Average Weighted matrix"
      ],
      "execution_count": null,
      "outputs": []
    },
    {
      "cell_type": "code",
      "metadata": {
        "colab": {
          "base_uri": "https://localhost:8080/"
        },
        "id": "itvhjYM2Bo2e",
        "outputId": "9a51948c-c77a-4891-8e99-0d1066177b29"
      },
      "source": [
        "L = D - W\n",
        "L"
      ],
      "execution_count": null,
      "outputs": [
        {
          "output_type": "execute_result",
          "data": {
            "text/plain": [
              "array([[ 3, -1, -1,  0, -1,  0,  0,  0,  0,  0,  0,  0,  0,  0,  0],\n",
              "       [-1,  3, -1,  0,  0,  0,  0, -1,  0,  0,  0,  0,  0,  0,  0],\n",
              "       [-1, -1,  4, -1,  0,  0,  0, -1,  0,  0,  0,  0,  0,  0,  0],\n",
              "       [ 0,  0, -1,  2,  0, -1,  0,  0,  0,  0,  0,  0,  0,  0,  0],\n",
              "       [-1,  0,  0,  0,  2, -1,  0,  0,  0,  0,  0,  0,  0,  0,  0],\n",
              "       [ 0,  0,  0, -1, -1,  6, -1,  0,  0,  0, -1,  0, -1, -1,  0],\n",
              "       [ 0,  0,  0,  0,  0, -1,  2,  0, -1,  0,  0,  0,  0,  0,  0],\n",
              "       [ 0, -1, -1,  0,  0,  0,  0,  3, -1,  0,  0,  0,  0,  0,  0],\n",
              "       [ 0,  0,  0,  0,  0,  0, -1, -1,  4, -1, -1,  0,  0,  0,  0],\n",
              "       [ 0,  0,  0,  0,  0,  0,  0,  0, -1,  1,  0,  0,  0,  0,  0],\n",
              "       [ 0,  0,  0,  0,  0, -1,  0,  0, -1,  0,  3, -1,  0,  0,  0],\n",
              "       [ 0,  0,  0,  0,  0,  0,  0,  0,  0,  0, -1,  1,  0,  0,  0],\n",
              "       [ 0,  0,  0,  0,  0, -1,  0,  0,  0,  0,  0,  0,  1,  0,  0],\n",
              "       [ 0,  0,  0,  0,  0, -1,  0,  0,  0,  0,  0,  0,  0,  2, -1],\n",
              "       [ 0,  0,  0,  0,  0,  0,  0,  0,  0,  0,  0,  0,  0, -1,  1]])"
            ]
          },
          "metadata": {
            "tags": []
          },
          "execution_count": 7
        }
      ]
    },
    {
      "cell_type": "markdown",
      "metadata": {
        "id": "H4eeex98LvGB"
      },
      "source": [
        "The list of stubborn nodes, that is sub-set on graph nodes having an exogenous flow.\n",
        "In this application we consider fixed valued for exogenous flows, so instead of $u(t)$ I've used $u_S$ or $u$"
      ]
    },
    {
      "cell_type": "code",
      "metadata": {
        "colab": {
          "base_uri": "https://localhost:8080/"
        },
        "id": "vLLF6dAizJff",
        "outputId": "346ff77c-df6c-4449-f98b-62d47a4bd37e"
      },
      "source": [
        "stubborn_nodes = {5:1, 2:-1}\n",
        "list(stubborn_nodes.keys())"
      ],
      "execution_count": null,
      "outputs": [
        {
          "output_type": "execute_result",
          "data": {
            "text/plain": [
              "[5, 2]"
            ]
          },
          "metadata": {
            "tags": []
          },
          "execution_count": 8
        }
      ]
    },
    {
      "cell_type": "code",
      "metadata": {
        "id": "r2m61NIyo4Lj",
        "colab": {
          "base_uri": "https://localhost:8080/"
        },
        "outputId": "4f0eae18-dc3c-4d2a-b202-b4292588a973"
      },
      "source": [
        "regular = [node for node in G.nodes if node not in list(stubborn_nodes.keys())]\n",
        "regular"
      ],
      "execution_count": null,
      "outputs": [
        {
          "output_type": "execute_result",
          "data": {
            "text/plain": [
              "[0, 1, 3, 4, 6, 7, 8, 9, 10, 11, 12, 13, 14]"
            ]
          },
          "metadata": {
            "tags": []
          },
          "execution_count": 10
        }
      ]
    },
    {
      "cell_type": "markdown",
      "metadata": {
        "id": "2JfVuT2VL-y8"
      },
      "source": [
        "The matrix $P$ can be splitted into 4 sub matrices:\n",
        "\n",
        "\n",
        "*  $Q$ -> edges going from regular nodes to regular ones\n",
        "*  $E$ -> edges going from regular nodes to stubborn ones\n",
        "*  $F$ -> edges going from stubborn nodes to regular ones\n",
        "*  $C$ -> edges going from stubborn nodes to stubborn ones\n",
        "\n",
        "And this allow us to study how the flow change in the graph by the influence of stubborn nodes\n"
      ]
    },
    {
      "cell_type": "code",
      "metadata": {
        "id": "y6cGx8I_o4Lj"
      },
      "source": [
        "Q = P[np.ix_(regular, regular)]\n",
        "E = P[np.ix_(regular, list(stubborn_nodes.keys()))]\n",
        "F = P[np.ix_(list(stubborn_nodes.keys()), regular)]\n",
        "C = P[np.ix_(list(stubborn_nodes.keys()), list(stubborn_nodes.keys()))]"
      ],
      "execution_count": null,
      "outputs": []
    },
    {
      "cell_type": "code",
      "metadata": {
        "colab": {
          "base_uri": "https://localhost:8080/"
        },
        "id": "sAQ8bsS6xRxK",
        "outputId": "d6fe8ed5-03ac-49c5-d22c-fb9c849afa90"
      },
      "source": [
        "x_0 = np.zeros(len(G))\n",
        "x_0"
      ],
      "execution_count": null,
      "outputs": [
        {
          "output_type": "execute_result",
          "data": {
            "text/plain": [
              "array([0., 0., 0., 0., 0., 0., 0., 0., 0., 0., 0., 0., 0., 0., 0.])"
            ]
          },
          "metadata": {
            "tags": []
          },
          "execution_count": 12
        }
      ]
    },
    {
      "cell_type": "markdown",
      "metadata": {
        "id": "R8hpasQYMgt-"
      },
      "source": [
        "When in the network there are exogenus flows, and we want to study how node opinions change and what is the asymptotic state for all the nodes, we are not intrested in the original opinions of regular nodes. This is because, going over and over, at each step their opinion will change while stubborn nodes opinions will remain the same. So the final value only depends on the fixed state of stubborn nodes.\n",
        "\n",
        "In order to hihlight it, let's define initial condition for regular nodes by using a random generator:"
      ]
    },
    {
      "cell_type": "code",
      "metadata": {
        "colab": {
          "base_uri": "https://localhost:8080/"
        },
        "id": "eOR4zXm8qUdO",
        "outputId": "778bdf50-46da-49df-d3de-b8f75aeb487a"
      },
      "source": [
        "for i in range(len(G)):\n",
        "  if(i in list( stubborn_nodes.keys()) ):\n",
        "    x_0[i] = stubborn_nodes[i]\n",
        "  else:\n",
        "    x_0[i] = np.random.random()\n",
        "x_0"
      ],
      "execution_count": null,
      "outputs": [
        {
          "output_type": "execute_result",
          "data": {
            "text/plain": [
              "array([ 0.86523143,  0.35557501, -1.        ,  0.2135407 ,  0.6508043 ,\n",
              "        1.        ,  0.41373704,  0.17087706,  0.67722953,  0.88408915,\n",
              "        0.74100771,  0.80054512,  0.39034168,  0.49373844,  0.19898135])"
            ]
          },
          "metadata": {
            "tags": []
          },
          "execution_count": 13
        }
      ]
    },
    {
      "cell_type": "markdown",
      "metadata": {
        "id": "TGV9WcpCNxT8"
      },
      "source": [
        "The final opinions vector $x$ is defined as: \\\\\n",
        "$ x_i = \\sum_{s \\in S} (HE)_{is}u_s $\n",
        "\n",
        "and we can interpret is ad the sum of all the stubborn opinions $u$ times the probability that each opinion in $S$ can reach the node $i$"
      ]
    },
    {
      "cell_type": "code",
      "metadata": {
        "id": "TilM899YxmAe"
      },
      "source": [
        "I = np.identity(len(Q))\n",
        "H = np.linalg.inv( I - Q)"
      ],
      "execution_count": null,
      "outputs": []
    },
    {
      "cell_type": "code",
      "metadata": {
        "colab": {
          "base_uri": "https://localhost:8080/"
        },
        "id": "mi66g0gDrxN3",
        "outputId": "8a4088ba-74cd-416b-8d55-1dbc00ff6505"
      },
      "source": [
        "stubborn_nodes.values()"
      ],
      "execution_count": null,
      "outputs": [
        {
          "output_type": "execute_result",
          "data": {
            "text/plain": [
              "dict_values([1, -1])"
            ]
          },
          "metadata": {
            "tags": []
          },
          "execution_count": 15
        }
      ]
    },
    {
      "cell_type": "code",
      "metadata": {
        "colab": {
          "base_uri": "https://localhost:8080/"
        },
        "id": "R4szXd4k1lgn",
        "outputId": "fa2f80e9-fb7a-44d3-f62f-7a301c79406e"
      },
      "source": [
        "x_t = H @ E @ list( stubborn_nodes.values())\n",
        "x_t"
      ],
      "execution_count": null,
      "outputs": [
        {
          "output_type": "execute_result",
          "data": {
            "text/plain": [
              "array([-0.45454545, -0.63636364,  0.        ,  0.27272727,  0.63636364,\n",
              "       -0.45454545,  0.27272727,  0.27272727,  0.63636364,  0.63636364,\n",
              "        1.        ,  1.        ,  1.        ])"
            ]
          },
          "metadata": {
            "tags": []
          },
          "execution_count": 16
        }
      ]
    },
    {
      "cell_type": "code",
      "metadata": {
        "colab": {
          "base_uri": "https://localhost:8080/"
        },
        "id": "438BFWwMDVy_",
        "outputId": "6924d05f-28a0-4c2f-de91-8f116d8a04c2"
      },
      "source": [
        "x = [0]*len(G)\n",
        "k = 0\n",
        "for i in range(len(G)):\n",
        "  if( i in list(stubborn_nodes.keys() )):\n",
        "    x[i] = stubborn_nodes[i]\n",
        "  else:\n",
        "    x[i] = x_t[k]\n",
        "    k += 1\n",
        "x = np.array(x)\n",
        "x"
      ],
      "execution_count": null,
      "outputs": [
        {
          "output_type": "execute_result",
          "data": {
            "text/plain": [
              "array([-0.45454545, -0.63636364, -1.        ,  0.        ,  0.27272727,\n",
              "        1.        ,  0.63636364, -0.45454545,  0.27272727,  0.27272727,\n",
              "        0.63636364,  0.63636364,  1.        ,  1.        ,  1.        ])"
            ]
          },
          "metadata": {
            "tags": []
          },
          "execution_count": 50
        }
      ]
    },
    {
      "cell_type": "code",
      "metadata": {
        "id": "SxPlkn4L7vJf",
        "colab": {
          "base_uri": "https://localhost:8080/"
        },
        "outputId": "0c8a8ebe-ae0f-49fb-abb4-ea73de21e9f1"
      },
      "source": [
        "stb = list(stubborn_nodes.keys() )\n",
        "stb"
      ],
      "execution_count": null,
      "outputs": [
        {
          "output_type": "execute_result",
          "data": {
            "text/plain": [
              "[5, 2]"
            ]
          },
          "metadata": {
            "tags": []
          },
          "execution_count": 51
        }
      ]
    },
    {
      "cell_type": "code",
      "metadata": {
        "colab": {
          "base_uri": "https://localhost:8080/"
        },
        "id": "FDUy2zfOEPkG",
        "outputId": "ee66de04-df91-467b-a987-1f2fe394d6b3"
      },
      "source": [
        "x_0"
      ],
      "execution_count": null,
      "outputs": [
        {
          "output_type": "execute_result",
          "data": {
            "text/plain": [
              "array([ 0.86523143,  0.35557501, -1.        ,  0.2135407 ,  0.6508043 ,\n",
              "        1.        ,  0.41373704,  0.17087706,  0.67722953,  0.88408915,\n",
              "        0.74100771,  0.80054512,  0.39034168,  0.49373844,  0.19898135])"
            ]
          },
          "metadata": {
            "tags": []
          },
          "execution_count": 52
        }
      ]
    },
    {
      "cell_type": "code",
      "metadata": {
        "id": "Y4zzkvoi2gea"
      },
      "source": [
        "#Plot the dynamics over 100 steps in order to show the trajectory:\n",
        "n = 100\n",
        "k = 0\n",
        "step = np.zeros( (len(G), n) )\n",
        "for i in range(len(G)):\n",
        "  if i not in stb:\n",
        "    step[i,0] = x_0[i]\n",
        "  else:\n",
        "   step[i,0] = stubborn_nodes[i]"
      ],
      "execution_count": null,
      "outputs": []
    },
    {
      "cell_type": "code",
      "metadata": {
        "colab": {
          "base_uri": "https://localhost:8080/"
        },
        "id": "aM2Z-8pi9v1F",
        "outputId": "0c53419d-0873-45fd-8644-bf11899cb767"
      },
      "source": [
        "step[:,0]"
      ],
      "execution_count": null,
      "outputs": [
        {
          "output_type": "execute_result",
          "data": {
            "text/plain": [
              "array([ 0.86523143,  0.35557501, -1.        ,  0.2135407 ,  0.6508043 ,\n",
              "        1.        ,  0.41373704,  0.17087706,  0.67722953,  0.88408915,\n",
              "        0.74100771,  0.80054512,  0.39034168,  0.49373844,  0.19898135])"
            ]
          },
          "metadata": {
            "tags": []
          },
          "execution_count": 54
        }
      ]
    },
    {
      "cell_type": "markdown",
      "metadata": {
        "id": "nLIIBm6nOo_p"
      },
      "source": [
        "By plotting the value of $x$ changing in $100$ steps, we can clearly see how there is not congercenge in the model:"
      ]
    },
    {
      "cell_type": "code",
      "metadata": {
        "id": "oyK-WnPZ7B_F"
      },
      "source": [
        "for i in range(1,n):\n",
        "  step[regular, i] = Q @ step[regular, i-1] + E @ step[stb, i-1]\n",
        "  step[stb, i] = step[stb, i-1];"
      ],
      "execution_count": null,
      "outputs": []
    },
    {
      "cell_type": "code",
      "metadata": {
        "id": "3dboAl0Z8WLq",
        "colab": {
          "base_uri": "https://localhost:8080/",
          "height": 445
        },
        "outputId": "cb680054-7786-4671-af1f-ba4a2989aa99"
      },
      "source": [
        "fig = plt.figure(1, figsize=(7,7))\n",
        "ax = plt.subplot(111)\n",
        "\n",
        "for node in range(len(G)):\n",
        "    trajectory = step[node,:]\n",
        "    ax.plot(trajectory, label='node {0:d}'.format(node))\n",
        "    \n",
        "ax.legend()"
      ],
      "execution_count": null,
      "outputs": [
        {
          "output_type": "execute_result",
          "data": {
            "text/plain": [
              "<matplotlib.legend.Legend at 0x7f9aa04ea390>"
            ]
          },
          "metadata": {
            "tags": []
          },
          "execution_count": 56
        },
        {
          "output_type": "display_data",
          "data": {
            "image/png": "[encoded data removed]",
            "text/plain": [
              "<Figure size 504x504 with 1 Axes>"
            ]
          },
          "metadata": {
            "tags": [],
            "needs_background": "light"
          }
        }
      ]
    },
    {
      "cell_type": "markdown",
      "metadata": {
        "id": "0M2v8zpU1cpo"
      },
      "source": [
        "#Exercise 3.d"
      ]
    },
    {
      "cell_type": "markdown",
      "metadata": {
        "id": "b7CxGhTPJscs"
      },
      "source": [
        "Starting from the previosly defined matrices, let's define a new value that is the mass available in each node at time $t$: \\\\\n",
        "$y(t) = [y_r(t), u(t)]'$ \\\\\n",
        "$ y_r(t+1) = Qx_r(t) + Ev(t)$\n",
        "\n",
        "Where $r$ refers to regular nodes.\n",
        "Also in this case, fixed input values are used. So $v(t)$ becames just $v$\n",
        "\n",
        "The linear network flow dynamics allow us also to study the page-rank centrality vector: in fact we can consider the page-rank vector as the limit of the linear netwrok flow dynamics model with exogenous inputs:\n",
        "\n",
        "$y_r(t +1) = Q'y_r(t) + \\lambda$ \\\\\n",
        "where \\\\\n",
        " \n",
        "$Q = (1- \\beta)P$ \\\\\n",
        "and \\\\\n",
        "$\\lambda = \\beta v$"
      ]
    },
    {
      "cell_type": "markdown",
      "metadata": {
        "id": "yKnBaOAO1MqU"
      },
      "source": [
        "The uniform input $v$ is defined as if each node recives the $ \\dfrac{1}{n}$ part of the total input flow (that is $1$), where $n = len(G)$"
      ]
    },
    {
      "cell_type": "code",
      "metadata": {
        "colab": {
          "base_uri": "https://localhost:8080/"
        },
        "id": "K9DgoGZ9qzgk",
        "outputId": "2c0d98b9-c468-4725-b4d3-dde666fe30de"
      },
      "source": [
        "v = np.ones(len(G))/len(G)\n",
        "v"
      ],
      "execution_count": null,
      "outputs": [
        {
          "output_type": "execute_result",
          "data": {
            "text/plain": [
              "array([0.06666667, 0.06666667, 0.06666667, 0.06666667, 0.06666667,\n",
              "       0.06666667, 0.06666667, 0.06666667, 0.06666667, 0.06666667,\n",
              "       0.06666667, 0.06666667, 0.06666667, 0.06666667, 0.06666667])"
            ]
          },
          "metadata": {
            "tags": []
          },
          "execution_count": 75
        }
      ]
    },
    {
      "cell_type": "code",
      "metadata": {
        "id": "IiYBRdc32SzE"
      },
      "source": [
        "step = np.zeros( (len(G), n) )\n",
        "step[:,0] = v"
      ],
      "execution_count": null,
      "outputs": []
    },
    {
      "cell_type": "code",
      "metadata": {
        "id": "XdHlH48Y2YkL"
      },
      "source": [
        "beta = 0.15\n",
        "Q = (1 - beta)*P \n",
        "l = beta*v"
      ],
      "execution_count": null,
      "outputs": []
    },
    {
      "cell_type": "code",
      "metadata": {
        "id": "GDIx2Ems1mt4"
      },
      "source": [
        "for i in range(1,n):\n",
        "  step[:, i] = Q.T @ step[:, i-1] + l"
      ],
      "execution_count": null,
      "outputs": []
    },
    {
      "cell_type": "code",
      "metadata": {
        "colab": {
          "base_uri": "https://localhost:8080/"
        },
        "id": "lc8K7_vz3kKT",
        "outputId": "0f474ea6-319c-4123-e662-047f2c053b8d"
      },
      "source": [
        "step[:,99]"
      ],
      "execution_count": null,
      "outputs": [
        {
          "output_type": "execute_result",
          "data": {
            "text/plain": [
              "array([0.07165777, 0.07018671, 0.09231801, 0.05144151, 0.05212696,\n",
              "       0.15405126, 0.05384753, 0.07152741, 0.10364047, 0.0320236 ,\n",
              "       0.08212627, 0.03326911, 0.03182393, 0.06312944, 0.03683001])"
            ]
          },
          "metadata": {
            "tags": []
          },
          "execution_count": 79
        }
      ]
    },
    {
      "cell_type": "markdown",
      "metadata": {
        "id": "jzOTHi-JXWa_"
      },
      "source": [
        "In order to check if the solution is correct, we can compare it with the one provided by the standard method in NetworkX, which is defined in the same way. The results, as shown in the next cell, are corrects."
      ]
    },
    {
      "cell_type": "code",
      "metadata": {
        "colab": {
          "base_uri": "https://localhost:8080/"
        },
        "id": "V1A5QBSgU5Rz",
        "outputId": "96f7d72b-2201-4a86-8b2b-294729b521b4"
      },
      "source": [
        "nx.pagerank( G, alpha=(1-beta))"
      ],
      "execution_count": null,
      "outputs": [
        {
          "output_type": "execute_result",
          "data": {
            "text/plain": [
              "{0: 0.07165770456948055,\n",
              " 1: 0.07018669768905662,\n",
              " 2: 0.09231779767919303,\n",
              " 3: 0.051441782879237674,\n",
              " 4: 0.05212720844546091,\n",
              " 5: 0.1540500134086529,\n",
              " 6: 0.05384795771711494,\n",
              " 7: 0.07152768304944947,\n",
              " 8: 0.10363968342248671,\n",
              " 9: 0.0320238086261405,\n",
              " 10: 0.0821269590583218,\n",
              " 11: 0.03326886799001193,\n",
              " 12: 0.03182414909097444,\n",
              " 13: 0.06312994200096989,\n",
              " 14: 0.036829744373448464}"
            ]
          },
          "metadata": {
            "tags": []
          },
          "execution_count": 80
        }
      ]
    },
    {
      "cell_type": "markdown",
      "metadata": {
        "id": "vb2L-DE5XmsM"
      },
      "source": [
        "#Exercise 4"
      ]
    },
    {
      "cell_type": "markdown",
      "metadata": {
        "id": "ynpjvZnZeK7s"
      },
      "source": [
        "## Useful functions"
      ]
    },
    {
      "cell_type": "code",
      "metadata": {
        "id": "Rcyn2m82byRa"
      },
      "source": [
        "def matricesGenerator(stubborn_nodes, G):\n",
        "  regular = [node for node in G.nodes if node not in list(stubborn_nodes.keys())]\n",
        "\n",
        "  W = nx.adjacency_matrix(G).toarray() #adjacency matrix\n",
        "  w = np.sum(W,axis=1) #degrees vector\n",
        "  D = np.diag(w) #Diagonal Matrix\n",
        "  P = np.linalg.inv(D) @ W #Average Weighted matrix\n",
        "\n",
        "  #Define sub matrix\n",
        "  Q = P[np.ix_(regular, regular)]\n",
        "  E = P[np.ix_(regular, list(stubborn_nodes.keys()))]\n",
        "  F = P[np.ix_(list(stubborn_nodes.keys()), regular)]\n",
        "  C = P[np.ix_(list(stubborn_nodes.keys()), list(stubborn_nodes.keys()))]\n",
        "\n",
        "  return (W,Q,E,F,C)"
      ],
      "execution_count": null,
      "outputs": []
    },
    {
      "cell_type": "markdown",
      "metadata": {
        "id": "Vw4jGIH9d0ev"
      },
      "source": [
        "##Part1"
      ]
    },
    {
      "cell_type": "code",
      "metadata": {
        "colab": {
          "base_uri": "https://localhost:8080/",
          "height": 336
        },
        "id": "pFyU5WkUXl0p",
        "outputId": "ef0bbc82-3673-4b00-ded2-771b0afc3204"
      },
      "source": [
        "G1 = nx.cubical_graph()\n",
        "nx.draw(G1)\n",
        "G1.edges"
      ],
      "execution_count": null,
      "outputs": [
        {
          "output_type": "execute_result",
          "data": {
            "text/plain": [
              "EdgeView([(0, 1), (0, 3), (0, 4), (1, 2), (1, 7), (2, 3), (2, 6), (3, 5), (4, 5), (4, 7), (5, 6), (6, 7)])"
            ]
          },
          "metadata": {
            "tags": []
          },
          "execution_count": 82
        },
        {
          "output_type": "display_data",
          "data": {
            "image/png": "[encoded data removed]",
            "text/plain": [
              "<Figure size 432x288 with 1 Axes>"
            ]
          },
          "metadata": {
            "tags": []
          }
        }
      ]
    },
    {
      "cell_type": "code",
      "metadata": {
        "colab": {
          "base_uri": "https://localhost:8080/"
        },
        "id": "7DYh6mX-eB0w",
        "outputId": "890a0d76-24e5-4744-c619-fbfd3190de19"
      },
      "source": [
        "results = {}\n",
        "l = list(G1.nodes)\n",
        "l.remove(0)\n",
        "for node in l:\n",
        "  stubborn_nodes = {0:0, node:1}\n",
        "  W,Q,E,F,C = matricesGenerator(stubborn_nodes, G1)\n",
        "  I = np.identity(len(Q))\n",
        "  H = np.linalg.inv( I - Q)\n",
        "  x_t = H @ E @ list( stubborn_nodes.values())\n",
        "  results[node] = np.average(x_t)\n",
        "results"
      ],
      "execution_count": null,
      "outputs": [
        {
          "output_type": "execute_result",
          "data": {
            "text/plain": [
              "{1: 0.5,\n",
              " 2: 0.49999999999999983,\n",
              " 3: 0.49999999999999983,\n",
              " 4: 0.5,\n",
              " 5: 0.49999999999999994,\n",
              " 6: 0.49999999999999994,\n",
              " 7: 0.49999999999999994}"
            ]
          },
          "metadata": {
            "tags": []
          },
          "execution_count": 83
        }
      ]
    },
    {
      "cell_type": "markdown",
      "metadata": {
        "id": "JoTc7bu3i9j1"
      },
      "source": [
        "As expected, all elements in \"results\" vector have more or less the same value (tiny variations are explainable by computer numerical representation)"
      ]
    },
    {
      "cell_type": "markdown",
      "metadata": {
        "id": "UD86yY4QdxhV"
      },
      "source": [
        "## Part2"
      ]
    },
    {
      "cell_type": "code",
      "metadata": {
        "colab": {
          "base_uri": "https://localhost:8080/",
          "height": 319
        },
        "id": "eK-DcPFSY2ZA",
        "outputId": "16bf00bc-93e4-4ef3-eebb-6e334d62cc44"
      },
      "source": [
        "n = 6\n",
        "G2 = nx.cycle_graph(n)\n",
        "\n",
        "for i in range(1, n):\n",
        "  k = len(G2) - 1\n",
        "  if(i%2 != 0):\n",
        "    G2.add_edges_from([ (i,k + 1), (k+1, k+2) ])\n",
        "  else:\n",
        "    G2.add_edge(i,k + 1)\n",
        "  \n",
        "pos = nx.spring_layout(G2)\n",
        "nx.draw(G2,pos, with_labels=True)\n"
      ],
      "execution_count": null,
      "outputs": [
        {
          "output_type": "display_data",
          "data": {
            "image/png": "[encoded data removed]",
            "text/plain": [
              "<Figure size 432x288 with 1 Axes>"
            ]
          },
          "metadata": {
            "tags": []
          }
        }
      ]
    },
    {
      "cell_type": "code",
      "metadata": {
        "colab": {
          "base_uri": "https://localhost:8080/"
        },
        "id": "GEKwtBTVav_o",
        "outputId": "eb92b2d8-476b-47eb-dc24-ca41ce063899"
      },
      "source": [
        "results = {}\n",
        "l = list(G2.nodes)\n",
        "l.remove(0)\n",
        "for node in l:\n",
        "  stubborn_nodes = {0:0, node:1}\n",
        "  W,Q,E,F,C = matricesGenerator(stubborn_nodes, G2)\n",
        "  I = np.identity(len(Q))\n",
        "  H = np.linalg.inv( I - Q)\n",
        "  x_t = H @ E @ list( stubborn_nodes.values())\n",
        "  results[node] = np.average(x_t)\n",
        "results"
      ],
      "execution_count": null,
      "outputs": [
        {
          "output_type": "execute_result",
          "data": {
            "text/plain": [
              "{1: 0.5666666666666668,\n",
              " 2: 0.5416666666666666,\n",
              " 3: 0.5555555555555555,\n",
              " 4: 0.5416666666666666,\n",
              " 5: 0.5666666666666665,\n",
              " 6: 0.303030303030303,\n",
              " 7: 0.1960784313725491,\n",
              " 8: 0.3095238095238094,\n",
              " 9: 0.36666666666666664,\n",
              " 10: 0.26190476190476186,\n",
              " 11: 0.3095238095238095,\n",
              " 12: 0.30303030303030304,\n",
              " 13: 0.19607843137254902}"
            ]
          },
          "metadata": {
            "tags": []
          },
          "execution_count": 85
        }
      ]
    },
    {
      "cell_type": "markdown",
      "metadata": {
        "id": "Kcnlwez8kd1n"
      },
      "source": [
        "Also in this case, as expected, the best value to be stubborn are the stubborn-neighboors "
      ]
    }
  ]
}